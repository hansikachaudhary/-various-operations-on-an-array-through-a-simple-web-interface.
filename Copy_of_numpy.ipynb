{
  "nbformat": 4,
  "nbformat_minor": 0,
  "metadata": {
    "colab": {
      "provenance": [],
      "authorship_tag": "ABX9TyPgI/rSJi1UtvigwxJVWPKY",
      "include_colab_link": true
    },
    "kernelspec": {
      "name": "python3",
      "display_name": "Python 3"
    },
    "language_info": {
      "name": "python"
    }
  },
  "cells": [
    {
      "cell_type": "markdown",
      "metadata": {
        "id": "view-in-github",
        "colab_type": "text"
      },
      "source": [
        "<a href=\"https://colab.research.google.com/github/hansikachaudhary/-various-operations-on-an-array-through-a-simple-web-interface./blob/main/Copy_of_numpy.ipynb\" target=\"_parent\"><img src=\"https://colab.research.google.com/assets/colab-badge.svg\" alt=\"Open In Colab\"/></a>"
      ]
    },
    {
      "cell_type": "markdown",
      "source": [
        "**NUMPY**\n",
        "advantages:\n",
        "*mathematical operations*,\n",
        "*faster*\n",
        "\n",
        "\n"
      ],
      "metadata": {
        "id": "etzKzL9ASOUo"
      }
    },
    {
      "cell_type": "code",
      "execution_count": null,
      "metadata": {
        "id": "y3XgKhKyOIF_"
      },
      "outputs": [],
      "source": [
        "import numpy as np\n"
      ]
    },
    {
      "cell_type": "markdown",
      "source": [
        "list vs numpy time taken\n"
      ],
      "metadata": {
        "id": "rzMQqcZrOg3C"
      }
    },
    {
      "cell_type": "code",
      "source": [
        "from time import process_time\n",
        "python_list=[i for i in range(10000)]\n",
        "start_time=process_time()\n",
        "python_list=[i+5 for i in python_list]\n",
        "end_time=process_time()\n",
        "print(end_time-start_time)\n"
      ],
      "metadata": {
        "colab": {
          "base_uri": "https://localhost:8080/"
        },
        "id": "QWqb_7CCOphC",
        "outputId": "0f4441c4-d51d-4042-d9b4-4e7c67510545"
      },
      "execution_count": null,
      "outputs": [
        {
          "output_type": "stream",
          "name": "stdout",
          "text": [
            "0.0004892700000009853\n"
          ]
        }
      ]
    },
    {
      "cell_type": "markdown",
      "source": [
        "Time taken by a list"
      ],
      "metadata": {
        "id": "ZtP0khWJPK67"
      }
    },
    {
      "cell_type": "code",
      "source": [
        "python_list=[i for i in range(10000)]\n",
        "start_time=process_time()\n",
        "python_list=[i+5 for i in python_list]\n",
        "end_time=process_time()\n",
        "print(end_time-start_time)\n",
        "\n"
      ],
      "metadata": {
        "colab": {
          "base_uri": "https://localhost:8080/"
        },
        "id": "qu1QHjjoPNg6",
        "outputId": "ec258dcd-4754-4ebe-9bed-85cdd4e432ac"
      },
      "execution_count": null,
      "outputs": [
        {
          "output_type": "stream",
          "name": "stdout",
          "text": [
            "0.0007272089999990072\n"
          ]
        }
      ]
    },
    {
      "cell_type": "code",
      "source": [
        "np_array=np.array([i for i in range(10000)])\n",
        "start_time=process_time()\n",
        "np_array+=5\n",
        "end_time=process_time()\n",
        "print(end_time-start_time)\n"
      ],
      "metadata": {
        "colab": {
          "base_uri": "https://localhost:8080/"
        },
        "id": "IfuuSoB5Qvpu",
        "outputId": "6fc4d312-e3d9-4368-cf35-069b16828ef5"
      },
      "execution_count": null,
      "outputs": [
        {
          "output_type": "stream",
          "name": "stdout",
          "text": [
            "0.0001525949999994225\n"
          ]
        }
      ]
    },
    {
      "cell_type": "markdown",
      "source": [
        "Numpy arrays"
      ],
      "metadata": {
        "id": "6qz-MQYTTSji"
      }
    },
    {
      "cell_type": "code",
      "source": [
        "#list\n",
        "list1=[1,2,3,4,5]\n",
        "print(list1)\n",
        "type(list1)"
      ],
      "metadata": {
        "colab": {
          "base_uri": "https://localhost:8080/"
        },
        "id": "8W-9t04SRkz7",
        "outputId": "870a88f7-2a04-4648-823c-9d14f8f9a10e"
      },
      "execution_count": null,
      "outputs": [
        {
          "output_type": "stream",
          "name": "stdout",
          "text": [
            "[1, 2, 3, 4, 5]\n"
          ]
        },
        {
          "output_type": "execute_result",
          "data": {
            "text/plain": [
              "list"
            ]
          },
          "metadata": {},
          "execution_count": 12
        }
      ]
    },
    {
      "cell_type": "code",
      "source": [
        "np_array=np.array([1,2,3,4])\n",
        "print(np_array)\n",
        "type(np_array)\n"
      ],
      "metadata": {
        "colab": {
          "base_uri": "https://localhost:8080/"
        },
        "id": "p59J5JJZTejA",
        "outputId": "f2e9e028-9ef8-471d-8c20-3f083fcb0624"
      },
      "execution_count": null,
      "outputs": [
        {
          "output_type": "stream",
          "name": "stdout",
          "text": [
            "[1 2 3 4]\n"
          ]
        },
        {
          "output_type": "execute_result",
          "data": {
            "text/plain": [
              "numpy.ndarray"
            ]
          },
          "metadata": {},
          "execution_count": 14
        }
      ]
    },
    {
      "cell_type": "code",
      "source": [
        "#creating 1 D array\n",
        "a=np.array([1,2,3,4])\n",
        "print(a)"
      ],
      "metadata": {
        "colab": {
          "base_uri": "https://localhost:8080/"
        },
        "id": "CCw8Vt4XUaHx",
        "outputId": "35e913c6-93dd-4296-de41-d3b69cc4ee35"
      },
      "execution_count": null,
      "outputs": [
        {
          "output_type": "stream",
          "name": "stdout",
          "text": [
            "[1 2 3 4]\n"
          ]
        }
      ]
    },
    {
      "cell_type": "code",
      "source": [
        "a.shape"
      ],
      "metadata": {
        "colab": {
          "base_uri": "https://localhost:8080/"
        },
        "id": "-x_KZe-FUmAR",
        "outputId": "8c98b536-5936-4374-dbef-ffaa96e7a01d"
      },
      "execution_count": null,
      "outputs": [
        {
          "output_type": "execute_result",
          "data": {
            "text/plain": [
              "(4,)"
            ]
          },
          "metadata": {},
          "execution_count": 18
        }
      ]
    },
    {
      "cell_type": "code",
      "source": [
        "b=np.array([(1,2,3,4),(5,6,7,8)])\n",
        "print(b)\n",
        "type(b)"
      ],
      "metadata": {
        "colab": {
          "base_uri": "https://localhost:8080/"
        },
        "id": "lcyuZY2cUySn",
        "outputId": "2a4f47fc-2a88-41eb-bbbb-d7b73dd5f568"
      },
      "execution_count": null,
      "outputs": [
        {
          "output_type": "stream",
          "name": "stdout",
          "text": [
            "[[1 2 3 4]\n",
            " [5 6 7 8]]\n"
          ]
        },
        {
          "output_type": "execute_result",
          "data": {
            "text/plain": [
              "numpy.ndarray"
            ]
          },
          "metadata": {},
          "execution_count": 22
        }
      ]
    },
    {
      "cell_type": "code",
      "source": [
        "b.shape"
      ],
      "metadata": {
        "colab": {
          "base_uri": "https://localhost:8080/"
        },
        "id": "ZhMXKJAOVeBd",
        "outputId": "322db997-8acb-4c7d-9a12-7321d7815005"
      },
      "execution_count": null,
      "outputs": [
        {
          "output_type": "execute_result",
          "data": {
            "text/plain": [
              "(2, 4)"
            ]
          },
          "metadata": {},
          "execution_count": 23
        }
      ]
    },
    {
      "cell_type": "code",
      "source": [
        "c=np.array([(1,2,3,4),(5,6,7,8)],dtype=float)\n",
        "print(c)"
      ],
      "metadata": {
        "colab": {
          "base_uri": "https://localhost:8080/"
        },
        "id": "riW6P9YLVqcH",
        "outputId": "15e1e437-8e11-4177-d22c-f41136f2ece4"
      },
      "execution_count": null,
      "outputs": [
        {
          "output_type": "stream",
          "name": "stdout",
          "text": [
            "[[1. 2. 3. 4.]\n",
            " [5. 6. 7. 8.]]\n"
          ]
        }
      ]
    },
    {
      "cell_type": "markdown",
      "source": [
        "INITIAL PLACEHOLDERS IN NUMPY ARRAY"
      ],
      "metadata": {
        "id": "wrXVzeuEWZez"
      }
    },
    {
      "cell_type": "code",
      "source": [
        "#create numpy array of zeroes\n",
        "x=np.zeros((4,5))\n",
        "print(x)"
      ],
      "metadata": {
        "colab": {
          "base_uri": "https://localhost:8080/"
        },
        "id": "7G9acykKWOOl",
        "outputId": "bd071eb8-0990-4d27-b26f-98ae5851139b"
      },
      "execution_count": null,
      "outputs": [
        {
          "output_type": "stream",
          "name": "stdout",
          "text": [
            "[[0. 0. 0. 0. 0.]\n",
            " [0. 0. 0. 0. 0.]\n",
            " [0. 0. 0. 0. 0.]\n",
            " [0. 0. 0. 0. 0.]]\n"
          ]
        }
      ]
    },
    {
      "cell_type": "code",
      "source": [
        "#create a numpy array of ones\n",
        "y=np.ones((3,3))\n",
        "print(y)"
      ],
      "metadata": {
        "colab": {
          "base_uri": "https://localhost:8080/"
        },
        "id": "unDErImhWdq9",
        "outputId": "d1c1dd13-2930-408a-9410-35205a67ce74"
      },
      "execution_count": null,
      "outputs": [
        {
          "output_type": "stream",
          "name": "stdout",
          "text": [
            "[[1. 1. 1.]\n",
            " [1. 1. 1.]\n",
            " [1. 1. 1.]]\n"
          ]
        }
      ]
    },
    {
      "cell_type": "code",
      "source": [
        "#create a numpy array of a particular value\n",
        "z=np.full((5,4),5)\n",
        "print(z)"
      ],
      "metadata": {
        "colab": {
          "base_uri": "https://localhost:8080/"
        },
        "id": "llHE9PJTWnIQ",
        "outputId": "728ceb36-83fc-4975-b758-021bfc97c33f"
      },
      "execution_count": null,
      "outputs": [
        {
          "output_type": "stream",
          "name": "stdout",
          "text": [
            "[[5 5 5 5]\n",
            " [5 5 5 5]\n",
            " [5 5 5 5]\n",
            " [5 5 5 5]\n",
            " [5 5 5 5]]\n"
          ]
        }
      ]
    },
    {
      "cell_type": "code",
      "source": [
        "#create an identity matrix\n",
        "#return 2-D array with ones on the diagonal and zeros elsewhere\n",
        "a=np.eye(4)\n",
        "print(a)"
      ],
      "metadata": {
        "colab": {
          "base_uri": "https://localhost:8080/"
        },
        "id": "0wMZ6DlRWyOM",
        "outputId": "29e7a503-81cf-46bf-a8c6-2a4db38b8da4"
      },
      "execution_count": null,
      "outputs": [
        {
          "output_type": "stream",
          "name": "stdout",
          "text": [
            "[[1. 0. 0. 0.]\n",
            " [0. 1. 0. 0.]\n",
            " [0. 0. 1. 0.]\n",
            " [0. 0. 0. 1.]]\n"
          ]
        }
      ]
    },
    {
      "cell_type": "code",
      "source": [
        "#create a numpy array with random values\n",
        "b=np.random.random((3,4))\n",
        "print(b)"
      ],
      "metadata": {
        "colab": {
          "base_uri": "https://localhost:8080/"
        },
        "id": "I-ALxwyAXAn_",
        "outputId": "8ebac5d2-2e7f-4291-94bb-0a230a69c9d6"
      },
      "execution_count": null,
      "outputs": [
        {
          "output_type": "stream",
          "name": "stdout",
          "text": [
            "[[0.88957352 0.10688162 0.97410214 0.31683457]\n",
            " [0.96311405 0.03388521 0.92141145 0.01036241]\n",
            " [0.20428727 0.75616029 0.06895224 0.15369674]]\n"
          ]
        }
      ]
    },
    {
      "cell_type": "code",
      "source": [
        "b.shape"
      ],
      "metadata": {
        "colab": {
          "base_uri": "https://localhost:8080/"
        },
        "id": "aSJMz4uaaI7P",
        "outputId": "7d5b28a2-c7cf-4577-b4bc-b17b6ccc46cd"
      },
      "execution_count": null,
      "outputs": [
        {
          "output_type": "execute_result",
          "data": {
            "text/plain": [
              "(3, 4)"
            ]
          },
          "metadata": {},
          "execution_count": 34
        }
      ]
    },
    {
      "cell_type": "code",
      "source": [
        "print(b.shape)"
      ],
      "metadata": {
        "colab": {
          "base_uri": "https://localhost:8080/"
        },
        "id": "LTxdezqBaLuA",
        "outputId": "0fe50df0-085b-4b4f-ff04-1fdf84af4069"
      },
      "execution_count": null,
      "outputs": [
        {
          "output_type": "stream",
          "name": "stdout",
          "text": [
            "(3, 4)\n"
          ]
        }
      ]
    },
    {
      "cell_type": "code",
      "source": [
        "#no. of dimensions\n",
        "print(b.ndim)"
      ],
      "metadata": {
        "colab": {
          "base_uri": "https://localhost:8080/"
        },
        "id": "2y7oXY42aRzG",
        "outputId": "7a1bba79-97cf-4004-b1a6-9f3e3fab374a"
      },
      "execution_count": null,
      "outputs": [
        {
          "output_type": "stream",
          "name": "stdout",
          "text": [
            "2\n"
          ]
        }
      ]
    },
    {
      "cell_type": "code",
      "source": [
        "#no. of elements in an array\n",
        "print(b.size)\n"
      ],
      "metadata": {
        "colab": {
          "base_uri": "https://localhost:8080/"
        },
        "id": "nhEmbiPxaaWo",
        "outputId": "3bc75a5f-2d71-4c31-e11c-f288a394c293"
      },
      "execution_count": null,
      "outputs": [
        {
          "output_type": "stream",
          "name": "stdout",
          "text": [
            "12\n"
          ]
        }
      ]
    },
    {
      "cell_type": "code",
      "source": [
        "print(b.dtype)"
      ],
      "metadata": {
        "colab": {
          "base_uri": "https://localhost:8080/"
        },
        "id": "cGc-Oxdtamtu",
        "outputId": "229b7178-39a5-457b-90f1-a98e0e355040"
      },
      "execution_count": null,
      "outputs": [
        {
          "output_type": "stream",
          "name": "stdout",
          "text": [
            "float64\n"
          ]
        }
      ]
    },
    {
      "cell_type": "code",
      "source": [
        "#random integer values array within a specific range\n",
        "c=np.random.randint(10,100,(3,5))\n",
        "print(c)"
      ],
      "metadata": {
        "colab": {
          "base_uri": "https://localhost:8080/"
        },
        "id": "FhTFfLBgXNpI",
        "outputId": "a8e97302-c532-4011-9baa-c8a17054a591"
      },
      "execution_count": null,
      "outputs": [
        {
          "output_type": "stream",
          "name": "stdout",
          "text": [
            "[[14 66 67 86 96]\n",
            " [61 97 58 25 32]\n",
            " [72 75 83 23 58]]\n"
          ]
        }
      ]
    },
    {
      "cell_type": "code",
      "source": [
        "#array of evenly spaced values --->specifying the number of values required\n",
        "d=np.linspace(10,30,6)\n",
        "print(d)"
      ],
      "metadata": {
        "colab": {
          "base_uri": "https://localhost:8080/"
        },
        "id": "buc0t8IXXXYZ",
        "outputId": "92f69904-f972-4696-b9cc-5502558dbe1e"
      },
      "execution_count": null,
      "outputs": [
        {
          "output_type": "stream",
          "name": "stdout",
          "text": [
            "[10. 14. 18. 22. 26. 30.]\n"
          ]
        }
      ]
    },
    {
      "cell_type": "code",
      "source": [
        "#array of evenly spaced values --->specifying the step\n",
        "e=np.arange(10,30,5)\n",
        "print (e)"
      ],
      "metadata": {
        "colab": {
          "base_uri": "https://localhost:8080/"
        },
        "id": "_FkqbE2zXs7E",
        "outputId": "a2726942-abda-4004-f0c6-5cdd62ad27a0"
      },
      "execution_count": null,
      "outputs": [
        {
          "output_type": "stream",
          "name": "stdout",
          "text": [
            "[10 15 20 25]\n"
          ]
        }
      ]
    },
    {
      "cell_type": "code",
      "source": [
        "#convert list to array .....(list contins comas but array dont )\n",
        "list2=[1,2,3,4]\n",
        "np_array=np.asarray(list2)\n",
        "print(np_array)\n",
        "type(np_array)\n"
      ],
      "metadata": {
        "colab": {
          "base_uri": "https://localhost:8080/"
        },
        "id": "ZDj_5npSYHgo",
        "outputId": "078a5e18-03aa-48f6-800a-3111c9a54d23"
      },
      "execution_count": null,
      "outputs": [
        {
          "output_type": "stream",
          "name": "stdout",
          "text": [
            "[1 2 3 4]\n"
          ]
        },
        {
          "output_type": "execute_result",
          "data": {
            "text/plain": [
              "numpy.ndarray"
            ]
          },
          "metadata": {},
          "execution_count": 33
        }
      ]
    },
    {
      "cell_type": "markdown",
      "source": [
        "mathematical operations on numpy array"
      ],
      "metadata": {
        "id": "ti0jkZ-SbC8y"
      }
    },
    {
      "cell_type": "code",
      "source": [
        "c=np.random.randint(10,20,(4,4))\n",
        "d=np.random.randint(20,30,(4,4))\n",
        "print(c)\n",
        "print(d)"
      ],
      "metadata": {
        "colab": {
          "base_uri": "https://localhost:8080/"
        },
        "id": "pBuf626iZJI1",
        "outputId": "58de358c-5904-4e3b-8595-50f0aa152c31"
      },
      "execution_count": null,
      "outputs": [
        {
          "output_type": "stream",
          "name": "stdout",
          "text": [
            "[[19 12 19 17]\n",
            " [16 13 17 13]\n",
            " [15 11 15 14]\n",
            " [14 14 12 11]]\n",
            "[[24 28 25 22]\n",
            " [21 28 26 23]\n",
            " [29 25 22 20]\n",
            " [24 24 29 28]]\n"
          ]
        }
      ]
    },
    {
      "cell_type": "code",
      "source": [
        "print(c+d)\n",
        "print(c*d)\n",
        "print(c-d)\n",
        "print(c/d)\n",
        "print(np.add(c,d))\n",
        "print(np.subtract(c,d))\n",
        "print(np.multiply(c,d))\n",
        "print(np.divide(c,d))"
      ],
      "metadata": {
        "colab": {
          "base_uri": "https://localhost:8080/"
        },
        "id": "zlk3WkTMbiqY",
        "outputId": "21dfbedb-34e7-4027-9579-482727b8f047"
      },
      "execution_count": null,
      "outputs": [
        {
          "output_type": "stream",
          "name": "stdout",
          "text": [
            "[[43 40 44 39]\n",
            " [37 41 43 36]\n",
            " [44 36 37 34]\n",
            " [38 38 41 39]]\n",
            "[[456 336 475 374]\n",
            " [336 364 442 299]\n",
            " [435 275 330 280]\n",
            " [336 336 348 308]]\n",
            "[[ -5 -16  -6  -5]\n",
            " [ -5 -15  -9 -10]\n",
            " [-14 -14  -7  -6]\n",
            " [-10 -10 -17 -17]]\n",
            "[[0.79166667 0.42857143 0.76       0.77272727]\n",
            " [0.76190476 0.46428571 0.65384615 0.56521739]\n",
            " [0.51724138 0.44       0.68181818 0.7       ]\n",
            " [0.58333333 0.58333333 0.4137931  0.39285714]]\n",
            "[[43 40 44 39]\n",
            " [37 41 43 36]\n",
            " [44 36 37 34]\n",
            " [38 38 41 39]]\n",
            "[[ -5 -16  -6  -5]\n",
            " [ -5 -15  -9 -10]\n",
            " [-14 -14  -7  -6]\n",
            " [-10 -10 -17 -17]]\n",
            "[[456 336 475 374]\n",
            " [336 364 442 299]\n",
            " [435 275 330 280]\n",
            " [336 336 348 308]]\n",
            "[[0.79166667 0.42857143 0.76       0.77272727]\n",
            " [0.76190476 0.46428571 0.65384615 0.56521739]\n",
            " [0.51724138 0.44       0.68181818 0.7       ]\n",
            " [0.58333333 0.58333333 0.4137931  0.39285714]]\n"
          ]
        }
      ]
    },
    {
      "cell_type": "markdown",
      "source": [
        "Array Manipulation"
      ],
      "metadata": {
        "id": "2RziZVaMcDjt"
      }
    },
    {
      "cell_type": "code",
      "source": [
        "array =np.random.randint(10,20,(2,4))\n",
        "print(array)\n",
        "print(array.shape)"
      ],
      "metadata": {
        "colab": {
          "base_uri": "https://localhost:8080/"
        },
        "id": "9paukG_4cF0Q",
        "outputId": "f0389736-e198-4d9f-896c-09946a0446d2"
      },
      "execution_count": null,
      "outputs": [
        {
          "output_type": "stream",
          "name": "stdout",
          "text": [
            "[[11 11 13 12]\n",
            " [14 17 15 11]]\n",
            "(2, 4)\n"
          ]
        }
      ]
    },
    {
      "cell_type": "code",
      "source": [
        "#transpose(method 1)\n",
        "trans=np.transpose(array)\n",
        "print(trans)\n",
        "print(trans.shape)"
      ],
      "metadata": {
        "id": "FzQmlYD5cecX"
      },
      "execution_count": null,
      "outputs": []
    },
    {
      "cell_type": "code",
      "source": [
        "array =np.random.randint(10,20,(2,4))\n",
        "print(array)\n",
        "print(array.shape)"
      ],
      "metadata": {
        "colab": {
          "base_uri": "https://localhost:8080/"
        },
        "id": "gpFcXAAkchoD",
        "outputId": "8a4eb1cb-a027-443f-8ee9-c42b660005f4"
      },
      "execution_count": null,
      "outputs": [
        {
          "output_type": "stream",
          "name": "stdout",
          "text": [
            "[[18 19 19 17]\n",
            " [14 15 15 14]]\n",
            "(2, 4)\n"
          ]
        }
      ]
    },
    {
      "cell_type": "code",
      "source": [
        "#transpose (method2)\n",
        "trans2=array.T\n",
        "print(trans2)\n",
        "print(trans2.shape)\n"
      ],
      "metadata": {
        "colab": {
          "base_uri": "https://localhost:8080/"
        },
        "id": "29CrJRaMcx5G",
        "outputId": "da730ba4-6d02-4c1a-b851-109852214a45"
      },
      "execution_count": null,
      "outputs": [
        {
          "output_type": "stream",
          "name": "stdout",
          "text": [
            "[[18 14]\n",
            " [19 15]\n",
            " [19 15]\n",
            " [17 14]]\n",
            "(4, 2)\n"
          ]
        }
      ]
    }
  ]
}